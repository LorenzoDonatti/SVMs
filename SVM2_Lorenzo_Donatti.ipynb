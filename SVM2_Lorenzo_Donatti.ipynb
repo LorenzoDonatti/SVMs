{
  "nbformat": 4,
  "nbformat_minor": 0,
  "metadata": {
    "colab": {
      "name": "SVM2_Lorenzo_Donatti.ipynb",
      "provenance": []
    },
    "kernelspec": {
      "name": "python3",
      "display_name": "Python 3"
    },
    "language_info": {
      "name": "python"
    }
  },
  "cells": [
    {
      "cell_type": "code",
      "execution_count": 98,
      "metadata": {
        "colab": {
          "base_uri": "https://localhost:8080/"
        },
        "id": "8csNxUgj3MZj",
        "outputId": "eabd9e92-556a-411f-f8fd-b1e2efe62c09"
      },
      "outputs": [
        {
          "output_type": "stream",
          "name": "stdout",
          "text": [
            "Forma de dados da imagem (1797, 64)\n",
            "Forma de dados do rótulo (1797,)\n"
          ]
        }
      ],
      "source": [
        "# importação de bibliotecas\n",
        "from sklearn import datasets\n",
        "from sklearn import svm\n",
        "import numpy as np \n",
        "import matplotlib.pyplot as plt\n",
        "\n",
        "#Carrega o digits dataset na variável digits\n",
        "digits = datasets.load_digits()\n",
        "\n",
        "#Mostra que há 1797 imagens (8 por 8 imagens para uma dimensionalidade de 64)\n",
        "print(\"Forma de dados da imagem\" , digits.data.shape)\n",
        "\n",
        "#Mostra que há 1797 amostras (inteiros de 0 a 9)\n",
        "print(\"Forma de dados do rótulo\", digits.target.shape)"
      ]
    },
    {
      "cell_type": "code",
      "source": [
        "#Mostra os dados, as features de cada dígito manuscrito\n",
        "digits.data"
      ],
      "metadata": {
        "colab": {
          "base_uri": "https://localhost:8080/"
        },
        "id": "6-VNYfTq3fH7",
        "outputId": "2ff7d31c-8169-4965-a0b6-a23bb1c82652"
      },
      "execution_count": 99,
      "outputs": [
        {
          "output_type": "execute_result",
          "data": {
            "text/plain": [
              "array([[ 0.,  0.,  5., ...,  0.,  0.,  0.],\n",
              "       [ 0.,  0.,  0., ..., 10.,  0.,  0.],\n",
              "       [ 0.,  0.,  0., ..., 16.,  9.,  0.],\n",
              "       ...,\n",
              "       [ 0.,  0.,  1., ...,  6.,  0.,  0.],\n",
              "       [ 0.,  0.,  2., ..., 12.,  0.,  0.],\n",
              "       [ 0.,  0., 10., ..., 12.,  1.,  0.]])"
            ]
          },
          "metadata": {},
          "execution_count": 99
        }
      ]
    },
    {
      "cell_type": "code",
      "source": [
        "#Mostra os dados, das classificações de cada dígito manuscrito\n",
        "digits.target"
      ],
      "metadata": {
        "colab": {
          "base_uri": "https://localhost:8080/"
        },
        "id": "ttnNV2m03fqj",
        "outputId": "0d478013-b44f-4831-891a-c9685934669a"
      },
      "execution_count": 100,
      "outputs": [
        {
          "output_type": "execute_result",
          "data": {
            "text/plain": [
              "array([0, 1, 2, ..., 8, 9, 8])"
            ]
          },
          "metadata": {},
          "execution_count": 100
        }
      ]
    },
    {
      "cell_type": "code",
      "source": [
        "#Plota um valor aleatorio entre 0 e 9\n",
        "plt.figure(figsize=(20,4))\n",
        "ran = np.random.randint(max(digits.target))\n",
        "image, label = digits.data[ran], digits.target[ran]\n",
        "\n",
        "plt.imshow(np.reshape(image, (8,8)), cmap=plt.cm.gray)\n",
        "plt.title('Target: {}\\n'.format(label, fontsize = 20))\n",
        "\n",
        "#Para mostrar o gráfico efetivamente\n",
        "plt.show()"
      ],
      "metadata": {
        "colab": {
          "base_uri": "https://localhost:8080/",
          "height": 296
        },
        "id": "5AaHXrIj9KPP",
        "outputId": "80fdbefd-38fe-447d-d903-9b29ddc3c229"
      },
      "execution_count": 106,
      "outputs": [
        {
          "output_type": "display_data",
          "data": {
            "text/plain": [
              "<Figure size 1440x288 with 1 Axes>"
            ],
            "image/png": "[encoded data removed]"
          },
          "metadata": {
            "needs_background": "light"
          }
        }
      ]
    },
    {
      "cell_type": "code",
      "source": [
        "from sklearn.model_selection import train_test_split\n",
        "from sklearn.preprocessing import MinMaxScaler\n",
        "\n",
        "X_train, X_test, y_train, y_test  = train_test_split(digits.data, digits.target, test_size=0.25, random_state=0)\n",
        "\n",
        "sc = MinMaxScaler()\n",
        "X_train = sc.fit_transform(X_train)\n",
        "X_test = sc.transform(X_test)"
      ],
      "metadata": {
        "id": "nxPv2_wn4zhj"
      },
      "execution_count": 107,
      "outputs": []
    },
    {
      "cell_type": "code",
      "source": [
        "#Importa o svm(support vector machine) do sklearn\n",
        "from sklearn.svm import SVC\n",
        "from sklearn.metrics import accuracy_score\n",
        "\n",
        "classifier = SVC(kernel = 'linear', C= 1)\n",
        "classifier.fit(X_train, y_train)\n",
        "\n",
        "y_pred = classifier.predict(X_test)\n",
        "\n",
        "print(y_test[0:35])\n",
        "print(y_pred[0:35])\n",
        "\n",
        "print(\"\\nAcuracia:\", accuracy_score(y_test, y_pred)*100, \"%\")"
      ],
      "metadata": {
        "colab": {
          "base_uri": "https://localhost:8080/"
        },
        "id": "fvBg0kpE3uyF",
        "outputId": "42cc8b33-3f5c-4fe8-8395-4ad3dff03d50"
      },
      "execution_count": 108,
      "outputs": [
        {
          "output_type": "stream",
          "name": "stdout",
          "text": [
            "[2 8 2 6 6 7 1 9 8 5 2 8 6 6 6 6 1 0 5 8 8 7 8 4 7 5 4 9 2 9 4 7 6 8 9]\n",
            "[2 8 2 6 6 7 1 9 8 5 2 8 6 6 6 6 1 0 5 8 8 7 8 4 7 5 4 9 2 9 4 7 6 8 9]\n",
            "\n",
            "Acuracia: 97.55555555555556 %\n"
          ]
        }
      ]
    },
    {
      "cell_type": "code",
      "source": [
        "classifierRBF = SVC(kernel = \"rbf\", gamma = 0.1, C=100)\n",
        "classifierRBF.fit(X_train, y_train)\n",
        "\n",
        "y_predRBF = classifierRBF.predict(X_test)\n",
        "print(y_test[0:35])\n",
        "print(y_predRBF[0:35])\n",
        "\n",
        "print(\"Acurácia: \", accuracy_score(y_test, y_predRBF)*100, \"%\")"
      ],
      "metadata": {
        "colab": {
          "base_uri": "https://localhost:8080/"
        },
        "id": "5KYj6iek6ivW",
        "outputId": "8181429f-1f9a-4a91-a09c-0bd5e9e15aca"
      },
      "execution_count": 109,
      "outputs": [
        {
          "output_type": "stream",
          "name": "stdout",
          "text": [
            "[2 8 2 6 6 7 1 9 8 5 2 8 6 6 6 6 1 0 5 8 8 7 8 4 7 5 4 9 2 9 4 7 6 8 9]\n",
            "[2 8 2 6 6 7 1 9 8 5 2 8 6 6 6 6 1 0 5 8 8 7 8 4 7 5 4 9 2 9 4 7 6 8 9]\n",
            "Acurácia:  99.11111111111111 %\n"
          ]
        }
      ]
    },
    {
      "cell_type": "code",
      "source": [
        "from sklearn.metrics import classification_report\n",
        "\n",
        "print(classification_report(y_test, y_predRBF))"
      ],
      "metadata": {
        "colab": {
          "base_uri": "https://localhost:8080/"
        },
        "id": "jQq03LI6_CE-",
        "outputId": "de4a11c4-8e17-4808-ba3b-1ca2beff71d8"
      },
      "execution_count": 110,
      "outputs": [
        {
          "output_type": "stream",
          "name": "stdout",
          "text": [
            "              precision    recall  f1-score   support\n",
            "\n",
            "           0       1.00      1.00      1.00        37\n",
            "           1       0.98      1.00      0.99        43\n",
            "           2       0.98      1.00      0.99        44\n",
            "           3       1.00      0.98      0.99        45\n",
            "           4       1.00      1.00      1.00        38\n",
            "           5       0.98      0.98      0.98        48\n",
            "           6       1.00      1.00      1.00        52\n",
            "           7       1.00      1.00      1.00        48\n",
            "           8       1.00      0.98      0.99        48\n",
            "           9       0.98      0.98      0.98        47\n",
            "\n",
            "    accuracy                           0.99       450\n",
            "   macro avg       0.99      0.99      0.99       450\n",
            "weighted avg       0.99      0.99      0.99       450\n",
            "\n"
          ]
        }
      ]
    }
  ]
}